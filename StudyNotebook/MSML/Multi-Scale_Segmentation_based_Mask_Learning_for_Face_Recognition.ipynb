{
 "cells": [
  {
   "cell_type": "markdown",
   "metadata": {},
   "source": [
    "## MSML : Enhancing Occlusion Robustness by Multi Scale Segmentation based Mask Learning for Face Recognition AAAI-2022\n",
    "\n",
    "This is an official implementation of AAAI 2022 paper \n",
    "\"MSML: Enhancing Occlusion-Robustness by Multi-Scale Segmentation-Based Mask Learning for Face Recognition\".\n",
    "[https://www.aaai.org/AAAI22Papers/AAAI-50.YuanG.pdf](https://www.aaai.org/AAAI22Papers/AAAI-50.YuanG.pdf)\n",
    "\n",
    "For occluded face recognition, \n",
    "the MSML network can effectively identify and remove the occlusions from \n",
    "feature representations at multiple levels and aggregate features from visible facial areas."
   ]
  },
  {
   "cell_type": "markdown",
   "metadata": {},
   "source": [
    "### class MSML"
   ]
  },
  {
   "cell_type": "code",
   "execution_count": null,
   "metadata": {},
   "outputs": [],
   "source": [
    "import torch\n",
    "import torch.nn as nn\n",
    "import import_ipyn\n",
    "\n",
    "\n"
   ]
  }
 ],
 "metadata": {
  "kernelspec": {
   "display_name": "MSML",
   "language": "python",
   "name": "python3"
  },
  "language_info": {
   "name": "python",
   "version": "3.10.12"
  },
  "orig_nbformat": 4
 },
 "nbformat": 4,
 "nbformat_minor": 2
}
