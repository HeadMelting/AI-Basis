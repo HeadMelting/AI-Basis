{
 "cells": [
  {
   "attachments": {},
   "cell_type": "markdown",
   "metadata": {},
   "source": [
    "# Occlusion Segmentation Branch\n",
    "Unet을 사용하여 마스크(가려진부분) segmentation 진행\n",
    "<br/>\n",
    "<br/>Implementation of Large Kernel Matters Paper (face++)\n",
    "<br/>Author : Xiangtai (lxtpku@pku.edu.cn)"
   ]
  },
  {
   "cell_type": "code",
   "execution_count": 3,
   "metadata": {},
   "outputs": [],
   "source": [
    "import os\n",
    "import torch\n",
    "import torch.nn as nn\n",
    "import torch.nn.functional as F\n",
    "from collections import OrderedDict\n",
    "\n",
    "import numpy as np\n",
    "\n",
    "# TODO\n",
    "# BUG\n",
    "# FIXME\n",
    "# HACK"
   ]
  },
  {
   "cell_type": "code",
   "execution_count": 4,
   "metadata": {},
   "outputs": [],
   "source": [
    "__all__ = ['unet',]\n",
    "\n",
    "class _GlobalConvModule(nn.Module):\n",
    "    def __init__(self, in_dim, out_dim, kernel_size):\n",
    "        '''\n",
    "        kerenl_size : odd number인게 좋음\n",
    "        '''\n",
    "        super(_GlobalConvModule,self).__init__()\n",
    "        pad0 = (kernel_size[0] - 1) // 2\n",
    "        pad1 = (kernel_size[1] - 1) // 2\n",
    "        \n",
    "        # NOTE kernel size had better be odd number so as to avoid alignment error\n",
    "        super(_GlobalConvModule, self).__init__()\n",
    "        self.conv_l1 = nn.Conv2d(in_dim, out_dim, kernel_size=(kernel_size[0],1),padding=(pad0,0))\n",
    "        self.conv_l2 = nn.Conv2d(out_dim, out_dim, kernel_size=(1, kernel_size[1]), padding=(0,pad1))\n",
    "        self.conv_r1 = nn.Conv2d(in_dim, out_dim, kernel_size=(1,kernel_size[1]),padding=(0,pad1))\n",
    "        self.conv_r2 = nn.Conv2d(out_dim, out_dim, kernel_size=(kernel_size[0],1), padding=(pad0,0))\n",
    "    \n",
    "    def forward(self, x):\n",
    "        x_l = self.conv_l1(x)\n",
    "        x_l = self.conv_l2(x_l)\n",
    "\n",
    "        x_r = self.conv_r1(x)\n",
    "        x_r = self.conv_r2(x_r)\n",
    "\n",
    "        x = x_l + x_r\n",
    "        return x\n",
    "       "
   ]
  },
  {
   "attachments": {},
   "cell_type": "markdown",
   "metadata": {},
   "source": [
    "### Conv Blocks\n",
    "\n",
    "**What is Dilation is Conv?**\n",
    "<div>\n",
    "<img src=\"../../img/DilatedConv.png\" width=\"200\"/>\n",
    "</div>"
   ]
  },
  {
   "cell_type": "code",
   "execution_count": 5,
   "metadata": {},
   "outputs": [],
   "source": [
    "def conv3x3(in_planes, out_planes, stride=1, groups=1, dilation=1):\n",
    "    '''\n",
    "    3x3 convolution with padding\n",
    "    '''\n",
    "    return nn.Conv2d(in_planes,\n",
    "                     out_planes,\n",
    "                     kernel_size=3,\n",
    "                     stride=stride,\n",
    "                     padding=dilation,\n",
    "                     groups=groups,\n",
    "                     bias=False,\n",
    "                     dilation=dilation)\n",
    "\n",
    "def conv1x1(in_planes, out_planes, stride=1):\n",
    "    return nn.Conv2d(in_planes,out_planes,kernel_size=1,stride=stride,bias=False)"
   ]
  },
  {
   "attachments": {},
   "cell_type": "markdown",
   "metadata": {},
   "source": [
    "### IBasicBlock\n",
    "\n",
    "identity -> bn -> conv -> bn -> PReLU -> conv -> bn3 -> out -> out + identity"
   ]
  },
  {
   "cell_type": "code",
   "execution_count": 10,
   "metadata": {},
   "outputs": [],
   "source": [
    "class IBasicBlock(nn.Module):\n",
    "    '''identity -> bn -> conv -> bn -> PReLU -> conv -> bn3 -> out -> out + identity'''\n",
    "    expansion = 1\n",
    "    def __init__(self,\n",
    "                 inplanes,\n",
    "                 planes,\n",
    "                 stride=1,\n",
    "                 downsample=None,\n",
    "                 groups=1,\n",
    "                 base_width=64,\n",
    "                 dilation=1):\n",
    "        super(IBasicBlock, self).__init__()\n",
    "        if groups != 1 or base_width != 64:\n",
    "            raise ValueError('BasicBlock only supports groups=1 and base_width=64')\n",
    "        \n",
    "        if dilation > 1:\n",
    "            raise NotImplementedError(\"Dilation > 1 not supported in BasicBlock\")\n",
    "        \n",
    "        self.bn1 = nn.BatchNorm2d(inplanes,eps=1e-05)\n",
    "        self.conv1 = conv3x3(inplanes,planes)\n",
    "        self.bn2 = nn.BatchNorm2d(planes, eps=1e-06)\n",
    "        self.prelu = nn.PReLU(planes)\n",
    "        self.conv2 = conv3x3(planes, planes, stride)\n",
    "        self.bn3 = nn.BatchNorm2d(planes, eps=1e-05)\n",
    "        self.downsample = downsample\n",
    "        self.stride = stride\n",
    "    \n",
    "    def forward(self, x):\n",
    "        identity = x\n",
    "        out = self.bn1(x)\n",
    "        out = self.conv1(out)\n",
    "        out = self.bn2(out)\n",
    "        out = self.prelu(out)\n",
    "        out = self.conv2(out)\n",
    "        out = self.bn3(out)\n",
    "\n",
    "        if self.downsample is not None:\n",
    "            identity = self.downsample(x)\n",
    "        out += identity\n",
    "        return out"
   ]
  },
  {
   "attachments": {},
   "cell_type": "markdown",
   "metadata": {},
   "source": [
    "# UNET!"
   ]
  },
  {
   "cell_type": "code",
   "execution_count": 11,
   "metadata": {},
   "outputs": [
    {
     "ename": "SyntaxError",
     "evalue": "incomplete input (3790590755.py, line 11)",
     "output_type": "error",
     "traceback": [
      "\u001b[0;36m  Cell \u001b[0;32mIn[11], line 11\u001b[0;36m\u001b[0m\n\u001b[0;31m    ):\u001b[0m\n\u001b[0m      ^\u001b[0m\n\u001b[0;31mSyntaxError\u001b[0m\u001b[0;31m:\u001b[0m incomplete input\n"
     ]
    }
   ],
   "source": [
    "class Unet(nn.Module):\n",
    "    def __init__(self,\n",
    "                 block:IBasicBlock,\n",
    "                 layers,\n",
    "                 groups=1,\n",
    "                 num_classes=2,\n",
    "                 kernel_size=7,\n",
    "                 dap_k=3,\n",
    "                 gray=True, # important\n",
    "                 input_size=128 # important\n",
    "                 ):\n",
    "        \n",
    "        super(Unet,self).__init__()\n",
    "\n",
    "        self.inplanes = 64\n",
    "        self.dilation = 1\n",
    "        self.groups = groups\n",
    "        self.base_width = 64\n",
    "\n",
    "        if gray:\n",
    "            self.conv1 = nn.Conv2d(1, self.inplanes, kernel_size=3, stride=2, padding=1, bias=False)\n",
    "        else:\n",
    "            self.conv1 = nn.Conv2d(3, self.inplanes, kernel_size=3, stride=2, padding=1, bias=False)\n",
    "\n",
    "        # Batch Norm\n",
    "        self.bn1 = nn.BatchNorm2d(self.inplanes, eps=1e-05)\n",
    "        # PReLU\n",
    "        self.prelu = nn.PReLU(self.inplanes)\n",
    "\n",
    "        #\n",
    "    def _make_layer(self, block, planes, blocks, stride=1, dilate=False):\n",
    "        downsample = None\n",
    "        previous_dilation = self.dilation\n",
    "\n",
    "        if dilate:\n",
    "            self.dilation *= stride\n",
    "            stride = 1\n",
    "        if stride != 1 or self.inplanes != planes * block.expansion:\n",
    "\n",
    "        "
   ]
  },
  {
   "cell_type": "code",
   "execution_count": 17,
   "metadata": {},
   "outputs": [
    {
     "name": "stdout",
     "output_type": "stream",
     "text": [
      "hihi\n"
     ]
    }
   ],
   "source": [
    "class Test():\n",
    "    def __init__(self):\n",
    "        self._sayhi()\n",
    "    \n",
    "    def _sayhi(self):\n",
    "        print(\"hihi\")\n",
    "\n",
    "t = Test()"
   ]
  },
  {
   "cell_type": "code",
   "execution_count": null,
   "metadata": {},
   "outputs": [],
   "source": []
  }
 ],
 "metadata": {
  "kernelspec": {
   "display_name": "MSML",
   "language": "python",
   "name": "python3"
  },
  "language_info": {
   "codemirror_mode": {
    "name": "ipython",
    "version": 3
   },
   "file_extension": ".py",
   "mimetype": "text/x-python",
   "name": "python",
   "nbconvert_exporter": "python",
   "pygments_lexer": "ipython3",
   "version": "3.10.12"
  },
  "orig_nbformat": 4
 },
 "nbformat": 4,
 "nbformat_minor": 2
}
